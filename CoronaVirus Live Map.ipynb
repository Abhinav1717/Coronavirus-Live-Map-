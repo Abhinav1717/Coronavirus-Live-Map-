{
 "cells": [
  {
   "cell_type": "code",
   "execution_count": 123,
   "metadata": {},
   "outputs": [
    {
     "data": {
      "text/html": [
       "        <script type=\"text/javascript\">\n",
       "        window.PlotlyConfig = {MathJaxConfig: 'local'};\n",
       "        if (window.MathJax) {MathJax.Hub.Config({SVG: {font: \"STIX-Web\"}});}\n",
       "        if (typeof require !== 'undefined') {\n",
       "        require.undef(\"plotly\");\n",
       "        requirejs.config({\n",
       "            paths: {\n",
       "                'plotly': ['https://cdn.plot.ly/plotly-latest.min']\n",
       "            }\n",
       "        });\n",
       "        require(['plotly'], function(Plotly) {\n",
       "            window._Plotly = Plotly;\n",
       "        });\n",
       "        }\n",
       "        </script>\n",
       "        "
      ]
     },
     "metadata": {},
     "output_type": "display_data"
    }
   ],
   "source": [
    "#importing libraries\n",
    "import plotly.graph_objs as go \n",
    "import pandas as pd\n",
    "import requests\n",
    "from plotly.offline import init_notebook_mode,iplot,plot\n",
    "init_notebook_mode(connected=True) "
   ]
  },
  {
   "cell_type": "code",
   "execution_count": 124,
   "metadata": {},
   "outputs": [],
   "source": [
    "#Source:https://www.worldometers.info/coronavirus/\n",
    "#getting html response\n",
    "url='https://www.worldometers.info/coronavirus/'\n",
    "html=requests.get(url).content"
   ]
  },
  {
   "cell_type": "code",
   "execution_count": 125,
   "metadata": {},
   "outputs": [],
   "source": [
    "#Getting tables into html response\n",
    "corona=pd.read_html(html)"
   ]
  },
  {
   "cell_type": "code",
   "execution_count": 126,
   "metadata": {},
   "outputs": [],
   "source": [
    "#Our information table is the first element of the fetched list of tables from the html\n",
    "corona=corona[0]"
   ]
  },
  {
   "cell_type": "code",
   "execution_count": 127,
   "metadata": {},
   "outputs": [],
   "source": [
    "#Renaming 1st Column of the Table\n",
    "corona.rename(columns = {'Country,Other':'Country'},inplace=True)"
   ]
  },
  {
   "cell_type": "code",
   "execution_count": 128,
   "metadata": {},
   "outputs": [],
   "source": [
    "#Deleting World Row and the Total Row\n",
    "corona.drop(index=[0,213],inplace=True)"
   ]
  },
  {
   "cell_type": "code",
   "execution_count": 129,
   "metadata": {},
   "outputs": [],
   "source": [
    "#Replace Missing data with 0\n",
    "corona.fillna(0,inplace=True)"
   ]
  },
  {
   "cell_type": "code",
   "execution_count": 130,
   "metadata": {},
   "outputs": [],
   "source": [
    "#New Deaths and New Cases are of the type object and are of the form'+____'\n",
    "#Function to remove '+'\n",
    "import numpy as np\n",
    "def removeplus(values):\n",
    "    if values== 0:\n",
    "        return 0\n",
    "    return float(values[1:].replace(',',''))"
   ]
  },
  {
   "cell_type": "code",
   "execution_count": 131,
   "metadata": {},
   "outputs": [],
   "source": [
    "#Converting strings to float and removing plus\n",
    "corona['NewCases']=corona['NewCases'].apply(removeplus)\n",
    "corona['NewDeaths']=corona['NewDeaths'].apply(removeplus)"
   ]
  },
  {
   "cell_type": "code",
   "execution_count": 132,
   "metadata": {},
   "outputs": [],
   "source": [
    "#Setting data for maps\n",
    "#change 'what' to change what you want to plot\n",
    "what = 'NewDeaths'\n",
    "data=dict(type='choropleth',\n",
    "         locations=corona['Country'],\n",
    "         locationmode='country names',\n",
    "         text=corona['Country'],\n",
    "         colorscale='viridis',\n",
    "         colorbar=dict(title=what),\n",
    "         z=corona[what],\n",
    "         marker=dict(line = dict(color= 'rgb(255,255,255)',width=2)))"
   ]
  },
  {
   "cell_type": "code",
   "execution_count": 133,
   "metadata": {},
   "outputs": [],
   "source": [
    "#Setting layout of the map\n",
    "layout=dict(title='{} throughout the world'.format(what),\n",
    "           geo = dict(showframe=False,projection={'type':'natural earth'},showlakes=True,showrivers=True))\n"
   ]
  },
  {
   "cell_type": "code",
   "execution_count": 134,
   "metadata": {},
   "outputs": [],
   "source": [
    "#Building the map\n",
    "map=go.Figure(data=[data],layout=layout)"
   ]
  },
  {
   "cell_type": "code",
   "execution_count": 135,
   "metadata": {},
   "outputs": [
    {
     "data": {
      "application/vnd.plotly.v1+json": {
       "config": {
        "linkText": "Export to plot.ly",
        "plotlyServerURL": "https://plot.ly",
        "showLink": false
       },
       "data": [
        {
         "colorbar": {
          "title": {
           "text": "NewDeaths"
          }
         },
         "colorscale": [
          [
           0,
           "#440154"
          ],
          [
           0.1111111111111111,
           "#482878"
          ],
          [
           0.2222222222222222,
           "#3e4989"
          ],
          [
           0.3333333333333333,
           "#31688e"
          ],
          [
           0.4444444444444444,
           "#26828e"
          ],
          [
           0.5555555555555556,
           "#1f9e89"
          ],
          [
           0.6666666666666666,
           "#35b779"
          ],
          [
           0.7777777777777778,
           "#6ece58"
          ],
          [
           0.8888888888888888,
           "#b5de2b"
          ],
          [
           1,
           "#fde725"
          ]
         ],
         "locationmode": "country names",
         "locations": [
          "USA",
          "Spain",
          "Italy",
          "France",
          "Germany",
          "UK",
          "Iran",
          "Turkey",
          "Belgium",
          "Netherlands",
          "Brazil",
          "Canada",
          "Russia",
          "Switzerland",
          "Portugal",
          "Austria",
          "India",
          "Israel",
          "Ireland",
          "Sweden",
          "Peru",
          "S. Korea",
          "Chile",
          "Japan",
          "Poland",
          "Ecuador",
          "Romania",
          "Pakistan",
          "Denmark",
          "Norway",
          "Australia",
          "Saudi Arabia",
          "Czechia",
          "Mexico",
          "Philippines",
          "Indonesia",
          "UAE",
          "Serbia",
          "Malaysia",
          "Singapore",
          "Belarus",
          "Ukraine",
          "Qatar",
          "Dominican Republic",
          "Panama",
          "Luxembourg",
          "Finland",
          "Colombia",
          "Thailand",
          "Argentina",
          "South Africa",
          "Egypt",
          "Algeria",
          "Morocco",
          "Greece",
          "Moldova",
          "Croatia",
          "Iceland",
          "Bahrain",
          "Hungary",
          "Bangladesh",
          "Kuwait",
          "Iraq",
          "Estonia",
          "New Zealand",
          "Kazakhstan",
          "Uzbekistan",
          "Azerbaijan",
          "Slovenia",
          "Bosnia and Herzegovina",
          "Armenia",
          "Lithuania",
          "North Macedonia",
          "Oman",
          "Hong Kong",
          "Slovakia",
          "Cuba",
          "Cameroon",
          "Afghanistan",
          "Bulgaria",
          "Tunisia",
          "Cyprus",
          "Diamond Princess",
          "Latvia",
          "Andorra",
          "Lebanon",
          "Ivory Coast",
          "Ghana",
          "Costa Rica",
          "Djibouti",
          "Niger",
          "Burkina Faso",
          "Albania",
          "Uruguay",
          "Kyrgyzstan",
          "Channel Islands",
          "Bolivia",
          "Guinea",
          "San Marino",
          "Honduras",
          "Malta",
          "Nigeria",
          "Jordan",
          "Taiwan",
          "Réunion",
          "Palestine",
          "Georgia",
          "Senegal",
          "Mauritius",
          "Montenegro",
          "Isle of Man",
          "Vietnam",
          "DRC",
          "Sri Lanka",
          "Kenya",
          "Mayotte",
          "Venezuela",
          "Guatemala",
          "Faeroe Islands",
          "Paraguay",
          "El Salvador",
          "Martinique",
          "Mali",
          "Guadeloupe",
          "Brunei",
          "Rwanda",
          "Gibraltar",
          "Jamaica",
          "Cambodia",
          "Congo",
          "Trinidad and Tobago",
          "Madagascar",
          "Tanzania",
          "Monaco",
          "Aruba",
          "Ethiopia",
          "French Guiana",
          "Myanmar",
          "Bermuda",
          "Togo",
          "Somalia",
          "Gabon",
          "Liechtenstein",
          "Barbados",
          "Cayman Islands",
          "Liberia",
          "Sint Maarten",
          "Cabo Verde",
          "Guyana",
          "French Polynesia",
          "Uganda",
          "Bahamas",
          "Equatorial Guinea",
          "Zambia",
          "Libya",
          "Macao",
          "Guinea-Bissau",
          "Haiti",
          "Saint Martin",
          "Benin",
          "Eritrea",
          "Syria",
          "Sudan",
          "Mongolia",
          "Mozambique",
          "Chad",
          "Antigua and Barbuda",
          "Zimbabwe",
          "Maldives",
          "Angola",
          "Laos",
          "Belize",
          "New Caledonia",
          "Timor-Leste",
          "Fiji",
          "Malawi",
          "Eswatini",
          "Nepal",
          "Dominica",
          "Namibia",
          "Botswana",
          "Saint Lucia",
          "Sierra Leone",
          "Curaçao",
          "Grenada",
          "Saint Kitts and Nevis",
          "CAR",
          "St. Vincent Grenadines",
          "Falkland Islands",
          "Greenland",
          "Montserrat",
          "Seychelles",
          "Suriname",
          "Turks and Caicos",
          "MS Zaandam",
          "Gambia",
          "Nicaragua",
          "Vatican City",
          "Mauritania",
          "Papua New Guinea",
          "St. Barth",
          "Western Sahara",
          "Burundi",
          "Bhutan",
          "Sao Tome and Principe",
          "South Sudan",
          "Anguilla",
          "British Virgin Islands",
          "Caribbean Netherlands",
          "Saint Pierre Miquelon",
          "Yemen",
          "China"
         ],
         "marker": {
          "line": {
           "color": "rgb(255,255,255)",
           "width": 2
          }
         },
         "text": [
          "USA",
          "Spain",
          "Italy",
          "France",
          "Germany",
          "UK",
          "Iran",
          "Turkey",
          "Belgium",
          "Netherlands",
          "Brazil",
          "Canada",
          "Russia",
          "Switzerland",
          "Portugal",
          "Austria",
          "India",
          "Israel",
          "Ireland",
          "Sweden",
          "Peru",
          "S. Korea",
          "Chile",
          "Japan",
          "Poland",
          "Ecuador",
          "Romania",
          "Pakistan",
          "Denmark",
          "Norway",
          "Australia",
          "Saudi Arabia",
          "Czechia",
          "Mexico",
          "Philippines",
          "Indonesia",
          "UAE",
          "Serbia",
          "Malaysia",
          "Singapore",
          "Belarus",
          "Ukraine",
          "Qatar",
          "Dominican Republic",
          "Panama",
          "Luxembourg",
          "Finland",
          "Colombia",
          "Thailand",
          "Argentina",
          "South Africa",
          "Egypt",
          "Algeria",
          "Morocco",
          "Greece",
          "Moldova",
          "Croatia",
          "Iceland",
          "Bahrain",
          "Hungary",
          "Bangladesh",
          "Kuwait",
          "Iraq",
          "Estonia",
          "New Zealand",
          "Kazakhstan",
          "Uzbekistan",
          "Azerbaijan",
          "Slovenia",
          "Bosnia and Herzegovina",
          "Armenia",
          "Lithuania",
          "North Macedonia",
          "Oman",
          "Hong Kong",
          "Slovakia",
          "Cuba",
          "Cameroon",
          "Afghanistan",
          "Bulgaria",
          "Tunisia",
          "Cyprus",
          "Diamond Princess",
          "Latvia",
          "Andorra",
          "Lebanon",
          "Ivory Coast",
          "Ghana",
          "Costa Rica",
          "Djibouti",
          "Niger",
          "Burkina Faso",
          "Albania",
          "Uruguay",
          "Kyrgyzstan",
          "Channel Islands",
          "Bolivia",
          "Guinea",
          "San Marino",
          "Honduras",
          "Malta",
          "Nigeria",
          "Jordan",
          "Taiwan",
          "Réunion",
          "Palestine",
          "Georgia",
          "Senegal",
          "Mauritius",
          "Montenegro",
          "Isle of Man",
          "Vietnam",
          "DRC",
          "Sri Lanka",
          "Kenya",
          "Mayotte",
          "Venezuela",
          "Guatemala",
          "Faeroe Islands",
          "Paraguay",
          "El Salvador",
          "Martinique",
          "Mali",
          "Guadeloupe",
          "Brunei",
          "Rwanda",
          "Gibraltar",
          "Jamaica",
          "Cambodia",
          "Congo",
          "Trinidad and Tobago",
          "Madagascar",
          "Tanzania",
          "Monaco",
          "Aruba",
          "Ethiopia",
          "French Guiana",
          "Myanmar",
          "Bermuda",
          "Togo",
          "Somalia",
          "Gabon",
          "Liechtenstein",
          "Barbados",
          "Cayman Islands",
          "Liberia",
          "Sint Maarten",
          "Cabo Verde",
          "Guyana",
          "French Polynesia",
          "Uganda",
          "Bahamas",
          "Equatorial Guinea",
          "Zambia",
          "Libya",
          "Macao",
          "Guinea-Bissau",
          "Haiti",
          "Saint Martin",
          "Benin",
          "Eritrea",
          "Syria",
          "Sudan",
          "Mongolia",
          "Mozambique",
          "Chad",
          "Antigua and Barbuda",
          "Zimbabwe",
          "Maldives",
          "Angola",
          "Laos",
          "Belize",
          "New Caledonia",
          "Timor-Leste",
          "Fiji",
          "Malawi",
          "Eswatini",
          "Nepal",
          "Dominica",
          "Namibia",
          "Botswana",
          "Saint Lucia",
          "Sierra Leone",
          "Curaçao",
          "Grenada",
          "Saint Kitts and Nevis",
          "CAR",
          "St. Vincent Grenadines",
          "Falkland Islands",
          "Greenland",
          "Montserrat",
          "Seychelles",
          "Suriname",
          "Turks and Caicos",
          "MS Zaandam",
          "Gambia",
          "Nicaragua",
          "Vatican City",
          "Mauritania",
          "Papua New Guinea",
          "St. Barth",
          "Western Sahara",
          "Burundi",
          "Bhutan",
          "Sao Tome and Principe",
          "South Sudan",
          "Anguilla",
          "British Virgin Islands",
          "Caribbean Netherlands",
          "Saint Pierre Miquelon",
          "Yemen",
          "China"
         ],
         "type": "choropleth",
         "z": [
          817,
          318,
          0,
          0,
          52,
          861,
          92,
          0,
          417,
          181,
          7,
          38,
          34,
          42,
          30,
          0,
          1,
          10,
          0,
          130,
          0,
          4,
          11,
          0,
          28,
          0,
          20,
          17,
          12,
          2,
          0,
          4,
          3,
          43,
          13,
          27,
          0,
          4,
          1,
          0,
          4,
          8,
          0,
          7,
          0,
          0,
          3,
          0,
          3,
          3,
          0,
          0,
          12,
          1,
          3,
          7,
          2,
          0,
          0,
          8,
          10,
          0,
          1,
          1,
          0,
          1,
          0,
          2,
          0,
          2,
          1,
          1,
          1,
          0,
          0,
          2,
          3,
          0,
          5,
          2,
          0,
          0,
          0,
          0,
          0,
          0,
          0,
          0,
          0,
          0,
          0,
          0,
          1,
          0,
          0,
          0,
          1,
          0,
          2,
          4,
          0,
          0,
          0,
          0,
          0,
          0,
          0,
          0,
          0,
          0,
          0,
          0,
          1,
          0,
          1,
          0,
          0,
          0,
          0,
          0,
          0,
          0,
          0,
          0,
          0,
          0,
          0,
          0,
          0,
          0,
          0,
          0,
          0,
          0,
          0,
          0,
          0,
          0,
          0,
          2,
          0,
          0,
          0,
          0,
          0,
          0,
          0,
          0,
          0,
          0,
          0,
          0,
          0,
          0,
          0,
          0,
          0,
          0,
          0,
          0,
          0,
          0,
          0,
          0,
          0,
          0,
          1,
          0,
          0,
          0,
          0,
          0,
          0,
          0,
          0,
          0,
          1,
          0,
          0,
          0,
          0,
          0,
          0,
          0,
          0,
          0,
          0,
          0,
          0,
          0,
          0,
          0,
          0,
          0,
          0,
          0,
          0,
          0,
          0,
          0,
          0,
          0,
          0,
          0,
          0,
          0,
          0,
          0,
          0,
          0,
          0,
          0
         ]
        }
       ],
       "layout": {
        "geo": {
         "projection": {
          "type": "natural earth"
         },
         "showframe": false,
         "showlakes": true,
         "showrivers": true
        },
        "template": {
         "data": {
          "bar": [
           {
            "error_x": {
             "color": "#2a3f5f"
            },
            "error_y": {
             "color": "#2a3f5f"
            },
            "marker": {
             "line": {
              "color": "#E5ECF6",
              "width": 0.5
             }
            },
            "type": "bar"
           }
          ],
          "barpolar": [
           {
            "marker": {
             "line": {
              "color": "#E5ECF6",
              "width": 0.5
             }
            },
            "type": "barpolar"
           }
          ],
          "carpet": [
           {
            "aaxis": {
             "endlinecolor": "#2a3f5f",
             "gridcolor": "white",
             "linecolor": "white",
             "minorgridcolor": "white",
             "startlinecolor": "#2a3f5f"
            },
            "baxis": {
             "endlinecolor": "#2a3f5f",
             "gridcolor": "white",
             "linecolor": "white",
             "minorgridcolor": "white",
             "startlinecolor": "#2a3f5f"
            },
            "type": "carpet"
           }
          ],
          "choropleth": [
           {
            "colorbar": {
             "outlinewidth": 0,
             "ticks": ""
            },
            "type": "choropleth"
           }
          ],
          "contour": [
           {
            "colorbar": {
             "outlinewidth": 0,
             "ticks": ""
            },
            "colorscale": [
             [
              0,
              "#0d0887"
             ],
             [
              0.1111111111111111,
              "#46039f"
             ],
             [
              0.2222222222222222,
              "#7201a8"
             ],
             [
              0.3333333333333333,
              "#9c179e"
             ],
             [
              0.4444444444444444,
              "#bd3786"
             ],
             [
              0.5555555555555556,
              "#d8576b"
             ],
             [
              0.6666666666666666,
              "#ed7953"
             ],
             [
              0.7777777777777778,
              "#fb9f3a"
             ],
             [
              0.8888888888888888,
              "#fdca26"
             ],
             [
              1,
              "#f0f921"
             ]
            ],
            "type": "contour"
           }
          ],
          "contourcarpet": [
           {
            "colorbar": {
             "outlinewidth": 0,
             "ticks": ""
            },
            "type": "contourcarpet"
           }
          ],
          "heatmap": [
           {
            "colorbar": {
             "outlinewidth": 0,
             "ticks": ""
            },
            "colorscale": [
             [
              0,
              "#0d0887"
             ],
             [
              0.1111111111111111,
              "#46039f"
             ],
             [
              0.2222222222222222,
              "#7201a8"
             ],
             [
              0.3333333333333333,
              "#9c179e"
             ],
             [
              0.4444444444444444,
              "#bd3786"
             ],
             [
              0.5555555555555556,
              "#d8576b"
             ],
             [
              0.6666666666666666,
              "#ed7953"
             ],
             [
              0.7777777777777778,
              "#fb9f3a"
             ],
             [
              0.8888888888888888,
              "#fdca26"
             ],
             [
              1,
              "#f0f921"
             ]
            ],
            "type": "heatmap"
           }
          ],
          "heatmapgl": [
           {
            "colorbar": {
             "outlinewidth": 0,
             "ticks": ""
            },
            "colorscale": [
             [
              0,
              "#0d0887"
             ],
             [
              0.1111111111111111,
              "#46039f"
             ],
             [
              0.2222222222222222,
              "#7201a8"
             ],
             [
              0.3333333333333333,
              "#9c179e"
             ],
             [
              0.4444444444444444,
              "#bd3786"
             ],
             [
              0.5555555555555556,
              "#d8576b"
             ],
             [
              0.6666666666666666,
              "#ed7953"
             ],
             [
              0.7777777777777778,
              "#fb9f3a"
             ],
             [
              0.8888888888888888,
              "#fdca26"
             ],
             [
              1,
              "#f0f921"
             ]
            ],
            "type": "heatmapgl"
           }
          ],
          "histogram": [
           {
            "marker": {
             "colorbar": {
              "outlinewidth": 0,
              "ticks": ""
             }
            },
            "type": "histogram"
           }
          ],
          "histogram2d": [
           {
            "colorbar": {
             "outlinewidth": 0,
             "ticks": ""
            },
            "colorscale": [
             [
              0,
              "#0d0887"
             ],
             [
              0.1111111111111111,
              "#46039f"
             ],
             [
              0.2222222222222222,
              "#7201a8"
             ],
             [
              0.3333333333333333,
              "#9c179e"
             ],
             [
              0.4444444444444444,
              "#bd3786"
             ],
             [
              0.5555555555555556,
              "#d8576b"
             ],
             [
              0.6666666666666666,
              "#ed7953"
             ],
             [
              0.7777777777777778,
              "#fb9f3a"
             ],
             [
              0.8888888888888888,
              "#fdca26"
             ],
             [
              1,
              "#f0f921"
             ]
            ],
            "type": "histogram2d"
           }
          ],
          "histogram2dcontour": [
           {
            "colorbar": {
             "outlinewidth": 0,
             "ticks": ""
            },
            "colorscale": [
             [
              0,
              "#0d0887"
             ],
             [
              0.1111111111111111,
              "#46039f"
             ],
             [
              0.2222222222222222,
              "#7201a8"
             ],
             [
              0.3333333333333333,
              "#9c179e"
             ],
             [
              0.4444444444444444,
              "#bd3786"
             ],
             [
              0.5555555555555556,
              "#d8576b"
             ],
             [
              0.6666666666666666,
              "#ed7953"
             ],
             [
              0.7777777777777778,
              "#fb9f3a"
             ],
             [
              0.8888888888888888,
              "#fdca26"
             ],
             [
              1,
              "#f0f921"
             ]
            ],
            "type": "histogram2dcontour"
           }
          ],
          "mesh3d": [
           {
            "colorbar": {
             "outlinewidth": 0,
             "ticks": ""
            },
            "type": "mesh3d"
           }
          ],
          "parcoords": [
           {
            "line": {
             "colorbar": {
              "outlinewidth": 0,
              "ticks": ""
             }
            },
            "type": "parcoords"
           }
          ],
          "pie": [
           {
            "automargin": true,
            "type": "pie"
           }
          ],
          "scatter": [
           {
            "marker": {
             "colorbar": {
              "outlinewidth": 0,
              "ticks": ""
             }
            },
            "type": "scatter"
           }
          ],
          "scatter3d": [
           {
            "line": {
             "colorbar": {
              "outlinewidth": 0,
              "ticks": ""
             }
            },
            "marker": {
             "colorbar": {
              "outlinewidth": 0,
              "ticks": ""
             }
            },
            "type": "scatter3d"
           }
          ],
          "scattercarpet": [
           {
            "marker": {
             "colorbar": {
              "outlinewidth": 0,
              "ticks": ""
             }
            },
            "type": "scattercarpet"
           }
          ],
          "scattergeo": [
           {
            "marker": {
             "colorbar": {
              "outlinewidth": 0,
              "ticks": ""
             }
            },
            "type": "scattergeo"
           }
          ],
          "scattergl": [
           {
            "marker": {
             "colorbar": {
              "outlinewidth": 0,
              "ticks": ""
             }
            },
            "type": "scattergl"
           }
          ],
          "scattermapbox": [
           {
            "marker": {
             "colorbar": {
              "outlinewidth": 0,
              "ticks": ""
             }
            },
            "type": "scattermapbox"
           }
          ],
          "scatterpolar": [
           {
            "marker": {
             "colorbar": {
              "outlinewidth": 0,
              "ticks": ""
             }
            },
            "type": "scatterpolar"
           }
          ],
          "scatterpolargl": [
           {
            "marker": {
             "colorbar": {
              "outlinewidth": 0,
              "ticks": ""
             }
            },
            "type": "scatterpolargl"
           }
          ],
          "scatterternary": [
           {
            "marker": {
             "colorbar": {
              "outlinewidth": 0,
              "ticks": ""
             }
            },
            "type": "scatterternary"
           }
          ],
          "surface": [
           {
            "colorbar": {
             "outlinewidth": 0,
             "ticks": ""
            },
            "colorscale": [
             [
              0,
              "#0d0887"
             ],
             [
              0.1111111111111111,
              "#46039f"
             ],
             [
              0.2222222222222222,
              "#7201a8"
             ],
             [
              0.3333333333333333,
              "#9c179e"
             ],
             [
              0.4444444444444444,
              "#bd3786"
             ],
             [
              0.5555555555555556,
              "#d8576b"
             ],
             [
              0.6666666666666666,
              "#ed7953"
             ],
             [
              0.7777777777777778,
              "#fb9f3a"
             ],
             [
              0.8888888888888888,
              "#fdca26"
             ],
             [
              1,
              "#f0f921"
             ]
            ],
            "type": "surface"
           }
          ],
          "table": [
           {
            "cells": {
             "fill": {
              "color": "#EBF0F8"
             },
             "line": {
              "color": "white"
             }
            },
            "header": {
             "fill": {
              "color": "#C8D4E3"
             },
             "line": {
              "color": "white"
             }
            },
            "type": "table"
           }
          ]
         },
         "layout": {
          "annotationdefaults": {
           "arrowcolor": "#2a3f5f",
           "arrowhead": 0,
           "arrowwidth": 1
          },
          "coloraxis": {
           "colorbar": {
            "outlinewidth": 0,
            "ticks": ""
           }
          },
          "colorscale": {
           "diverging": [
            [
             0,
             "#8e0152"
            ],
            [
             0.1,
             "#c51b7d"
            ],
            [
             0.2,
             "#de77ae"
            ],
            [
             0.3,
             "#f1b6da"
            ],
            [
             0.4,
             "#fde0ef"
            ],
            [
             0.5,
             "#f7f7f7"
            ],
            [
             0.6,
             "#e6f5d0"
            ],
            [
             0.7,
             "#b8e186"
            ],
            [
             0.8,
             "#7fbc41"
            ],
            [
             0.9,
             "#4d9221"
            ],
            [
             1,
             "#276419"
            ]
           ],
           "sequential": [
            [
             0,
             "#0d0887"
            ],
            [
             0.1111111111111111,
             "#46039f"
            ],
            [
             0.2222222222222222,
             "#7201a8"
            ],
            [
             0.3333333333333333,
             "#9c179e"
            ],
            [
             0.4444444444444444,
             "#bd3786"
            ],
            [
             0.5555555555555556,
             "#d8576b"
            ],
            [
             0.6666666666666666,
             "#ed7953"
            ],
            [
             0.7777777777777778,
             "#fb9f3a"
            ],
            [
             0.8888888888888888,
             "#fdca26"
            ],
            [
             1,
             "#f0f921"
            ]
           ],
           "sequentialminus": [
            [
             0,
             "#0d0887"
            ],
            [
             0.1111111111111111,
             "#46039f"
            ],
            [
             0.2222222222222222,
             "#7201a8"
            ],
            [
             0.3333333333333333,
             "#9c179e"
            ],
            [
             0.4444444444444444,
             "#bd3786"
            ],
            [
             0.5555555555555556,
             "#d8576b"
            ],
            [
             0.6666666666666666,
             "#ed7953"
            ],
            [
             0.7777777777777778,
             "#fb9f3a"
            ],
            [
             0.8888888888888888,
             "#fdca26"
            ],
            [
             1,
             "#f0f921"
            ]
           ]
          },
          "colorway": [
           "#636efa",
           "#EF553B",
           "#00cc96",
           "#ab63fa",
           "#FFA15A",
           "#19d3f3",
           "#FF6692",
           "#B6E880",
           "#FF97FF",
           "#FECB52"
          ],
          "font": {
           "color": "#2a3f5f"
          },
          "geo": {
           "bgcolor": "white",
           "lakecolor": "white",
           "landcolor": "#E5ECF6",
           "showlakes": true,
           "showland": true,
           "subunitcolor": "white"
          },
          "hoverlabel": {
           "align": "left"
          },
          "hovermode": "closest",
          "mapbox": {
           "style": "light"
          },
          "paper_bgcolor": "white",
          "plot_bgcolor": "#E5ECF6",
          "polar": {
           "angularaxis": {
            "gridcolor": "white",
            "linecolor": "white",
            "ticks": ""
           },
           "bgcolor": "#E5ECF6",
           "radialaxis": {
            "gridcolor": "white",
            "linecolor": "white",
            "ticks": ""
           }
          },
          "scene": {
           "xaxis": {
            "backgroundcolor": "#E5ECF6",
            "gridcolor": "white",
            "gridwidth": 2,
            "linecolor": "white",
            "showbackground": true,
            "ticks": "",
            "zerolinecolor": "white"
           },
           "yaxis": {
            "backgroundcolor": "#E5ECF6",
            "gridcolor": "white",
            "gridwidth": 2,
            "linecolor": "white",
            "showbackground": true,
            "ticks": "",
            "zerolinecolor": "white"
           },
           "zaxis": {
            "backgroundcolor": "#E5ECF6",
            "gridcolor": "white",
            "gridwidth": 2,
            "linecolor": "white",
            "showbackground": true,
            "ticks": "",
            "zerolinecolor": "white"
           }
          },
          "shapedefaults": {
           "line": {
            "color": "#2a3f5f"
           }
          },
          "ternary": {
           "aaxis": {
            "gridcolor": "white",
            "linecolor": "white",
            "ticks": ""
           },
           "baxis": {
            "gridcolor": "white",
            "linecolor": "white",
            "ticks": ""
           },
           "bgcolor": "#E5ECF6",
           "caxis": {
            "gridcolor": "white",
            "linecolor": "white",
            "ticks": ""
           }
          },
          "title": {
           "x": 0.05
          },
          "xaxis": {
           "automargin": true,
           "gridcolor": "white",
           "linecolor": "white",
           "ticks": "",
           "title": {
            "standoff": 15
           },
           "zerolinecolor": "white",
           "zerolinewidth": 2
          },
          "yaxis": {
           "automargin": true,
           "gridcolor": "white",
           "linecolor": "white",
           "ticks": "",
           "title": {
            "standoff": 15
           },
           "zerolinecolor": "white",
           "zerolinewidth": 2
          }
         }
        },
        "title": {
         "text": "NewDeaths throughout the world"
        }
       }
      },
      "text/html": [
       "<div>\n",
       "        \n",
       "        \n",
       "            <div id=\"19012bfe-b696-42e6-bf15-7e754f2366a6\" class=\"plotly-graph-div\" style=\"height:525px; width:100%;\"></div>\n",
       "            <script type=\"text/javascript\">\n",
       "                require([\"plotly\"], function(Plotly) {\n",
       "                    window.PLOTLYENV=window.PLOTLYENV || {};\n",
       "                    \n",
       "                if (document.getElementById(\"19012bfe-b696-42e6-bf15-7e754f2366a6\")) {\n",
       "                    Plotly.newPlot(\n",
       "                        '19012bfe-b696-42e6-bf15-7e754f2366a6',\n",
       "                        [{\"colorbar\": {\"title\": {\"text\": \"NewDeaths\"}}, \"colorscale\": [[0.0, \"#440154\"], [0.1111111111111111, \"#482878\"], [0.2222222222222222, \"#3e4989\"], [0.3333333333333333, \"#31688e\"], [0.4444444444444444, \"#26828e\"], [0.5555555555555556, \"#1f9e89\"], [0.6666666666666666, \"#35b779\"], [0.7777777777777778, \"#6ece58\"], [0.8888888888888888, \"#b5de2b\"], [1.0, \"#fde725\"]], \"locationmode\": \"country names\", \"locations\": [\"USA\", \"Spain\", \"Italy\", \"France\", \"Germany\", \"UK\", \"Iran\", \"Turkey\", \"Belgium\", \"Netherlands\", \"Brazil\", \"Canada\", \"Russia\", \"Switzerland\", \"Portugal\", \"Austria\", \"India\", \"Israel\", \"Ireland\", \"Sweden\", \"Peru\", \"S. Korea\", \"Chile\", \"Japan\", \"Poland\", \"Ecuador\", \"Romania\", \"Pakistan\", \"Denmark\", \"Norway\", \"Australia\", \"Saudi Arabia\", \"Czechia\", \"Mexico\", \"Philippines\", \"Indonesia\", \"UAE\", \"Serbia\", \"Malaysia\", \"Singapore\", \"Belarus\", \"Ukraine\", \"Qatar\", \"Dominican Republic\", \"Panama\", \"Luxembourg\", \"Finland\", \"Colombia\", \"Thailand\", \"Argentina\", \"South Africa\", \"Egypt\", \"Algeria\", \"Morocco\", \"Greece\", \"Moldova\", \"Croatia\", \"Iceland\", \"Bahrain\", \"Hungary\", \"Bangladesh\", \"Kuwait\", \"Iraq\", \"Estonia\", \"New Zealand\", \"Kazakhstan\", \"Uzbekistan\", \"Azerbaijan\", \"Slovenia\", \"Bosnia and Herzegovina\", \"Armenia\", \"Lithuania\", \"North Macedonia\", \"Oman\", \"Hong Kong\", \"Slovakia\", \"Cuba\", \"Cameroon\", \"Afghanistan\", \"Bulgaria\", \"Tunisia\", \"Cyprus\", \"Diamond Princess\", \"Latvia\", \"Andorra\", \"Lebanon\", \"Ivory Coast\", \"Ghana\", \"Costa Rica\", \"Djibouti\", \"Niger\", \"Burkina Faso\", \"Albania\", \"Uruguay\", \"Kyrgyzstan\", \"Channel Islands\", \"Bolivia\", \"Guinea\", \"San Marino\", \"Honduras\", \"Malta\", \"Nigeria\", \"Jordan\", \"Taiwan\", \"R\\u00e9union\", \"Palestine\", \"Georgia\", \"Senegal\", \"Mauritius\", \"Montenegro\", \"Isle of Man\", \"Vietnam\", \"DRC\", \"Sri Lanka\", \"Kenya\", \"Mayotte\", \"Venezuela\", \"Guatemala\", \"Faeroe Islands\", \"Paraguay\", \"El Salvador\", \"Martinique\", \"Mali\", \"Guadeloupe\", \"Brunei\", \"Rwanda\", \"Gibraltar\", \"Jamaica\", \"Cambodia\", \"Congo\", \"Trinidad and Tobago\", \"Madagascar\", \"Tanzania\", \"Monaco\", \"Aruba\", \"Ethiopia\", \"French Guiana\", \"Myanmar\", \"Bermuda\", \"Togo\", \"Somalia\", \"Gabon\", \"Liechtenstein\", \"Barbados\", \"Cayman Islands\", \"Liberia\", \"Sint Maarten\", \"Cabo Verde\", \"Guyana\", \"French Polynesia\", \"Uganda\", \"Bahamas\", \"Equatorial Guinea\", \"Zambia\", \"Libya\", \"Macao\", \"Guinea-Bissau\", \"Haiti\", \"Saint Martin\", \"Benin\", \"Eritrea\", \"Syria\", \"Sudan\", \"Mongolia\", \"Mozambique\", \"Chad\", \"Antigua and Barbuda\", \"Zimbabwe\", \"Maldives\", \"Angola\", \"Laos\", \"Belize\", \"New Caledonia\", \"Timor-Leste\", \"Fiji\", \"Malawi\", \"Eswatini\", \"Nepal\", \"Dominica\", \"Namibia\", \"Botswana\", \"Saint Lucia\", \"Sierra Leone\", \"Cura\\u00e7ao\", \"Grenada\", \"Saint Kitts and Nevis\", \"CAR\", \"St. Vincent Grenadines\", \"Falkland Islands\", \"Greenland\", \"Montserrat\", \"Seychelles\", \"Suriname\", \"Turks and Caicos\", \"MS Zaandam\", \"Gambia\", \"Nicaragua\", \"Vatican City\", \"Mauritania\", \"Papua New Guinea\", \"St. Barth\", \"Western Sahara\", \"Burundi\", \"Bhutan\", \"Sao Tome and Principe\", \"South Sudan\", \"Anguilla\", \"British Virgin Islands\", \"Caribbean Netherlands\", \"Saint Pierre Miquelon\", \"Yemen\", \"China\"], \"marker\": {\"line\": {\"color\": \"rgb(255,255,255)\", \"width\": 2}}, \"text\": [\"USA\", \"Spain\", \"Italy\", \"France\", \"Germany\", \"UK\", \"Iran\", \"Turkey\", \"Belgium\", \"Netherlands\", \"Brazil\", \"Canada\", \"Russia\", \"Switzerland\", \"Portugal\", \"Austria\", \"India\", \"Israel\", \"Ireland\", \"Sweden\", \"Peru\", \"S. Korea\", \"Chile\", \"Japan\", \"Poland\", \"Ecuador\", \"Romania\", \"Pakistan\", \"Denmark\", \"Norway\", \"Australia\", \"Saudi Arabia\", \"Czechia\", \"Mexico\", \"Philippines\", \"Indonesia\", \"UAE\", \"Serbia\", \"Malaysia\", \"Singapore\", \"Belarus\", \"Ukraine\", \"Qatar\", \"Dominican Republic\", \"Panama\", \"Luxembourg\", \"Finland\", \"Colombia\", \"Thailand\", \"Argentina\", \"South Africa\", \"Egypt\", \"Algeria\", \"Morocco\", \"Greece\", \"Moldova\", \"Croatia\", \"Iceland\", \"Bahrain\", \"Hungary\", \"Bangladesh\", \"Kuwait\", \"Iraq\", \"Estonia\", \"New Zealand\", \"Kazakhstan\", \"Uzbekistan\", \"Azerbaijan\", \"Slovenia\", \"Bosnia and Herzegovina\", \"Armenia\", \"Lithuania\", \"North Macedonia\", \"Oman\", \"Hong Kong\", \"Slovakia\", \"Cuba\", \"Cameroon\", \"Afghanistan\", \"Bulgaria\", \"Tunisia\", \"Cyprus\", \"Diamond Princess\", \"Latvia\", \"Andorra\", \"Lebanon\", \"Ivory Coast\", \"Ghana\", \"Costa Rica\", \"Djibouti\", \"Niger\", \"Burkina Faso\", \"Albania\", \"Uruguay\", \"Kyrgyzstan\", \"Channel Islands\", \"Bolivia\", \"Guinea\", \"San Marino\", \"Honduras\", \"Malta\", \"Nigeria\", \"Jordan\", \"Taiwan\", \"R\\u00e9union\", \"Palestine\", \"Georgia\", \"Senegal\", \"Mauritius\", \"Montenegro\", \"Isle of Man\", \"Vietnam\", \"DRC\", \"Sri Lanka\", \"Kenya\", \"Mayotte\", \"Venezuela\", \"Guatemala\", \"Faeroe Islands\", \"Paraguay\", \"El Salvador\", \"Martinique\", \"Mali\", \"Guadeloupe\", \"Brunei\", \"Rwanda\", \"Gibraltar\", \"Jamaica\", \"Cambodia\", \"Congo\", \"Trinidad and Tobago\", \"Madagascar\", \"Tanzania\", \"Monaco\", \"Aruba\", \"Ethiopia\", \"French Guiana\", \"Myanmar\", \"Bermuda\", \"Togo\", \"Somalia\", \"Gabon\", \"Liechtenstein\", \"Barbados\", \"Cayman Islands\", \"Liberia\", \"Sint Maarten\", \"Cabo Verde\", \"Guyana\", \"French Polynesia\", \"Uganda\", \"Bahamas\", \"Equatorial Guinea\", \"Zambia\", \"Libya\", \"Macao\", \"Guinea-Bissau\", \"Haiti\", \"Saint Martin\", \"Benin\", \"Eritrea\", \"Syria\", \"Sudan\", \"Mongolia\", \"Mozambique\", \"Chad\", \"Antigua and Barbuda\", \"Zimbabwe\", \"Maldives\", \"Angola\", \"Laos\", \"Belize\", \"New Caledonia\", \"Timor-Leste\", \"Fiji\", \"Malawi\", \"Eswatini\", \"Nepal\", \"Dominica\", \"Namibia\", \"Botswana\", \"Saint Lucia\", \"Sierra Leone\", \"Cura\\u00e7ao\", \"Grenada\", \"Saint Kitts and Nevis\", \"CAR\", \"St. Vincent Grenadines\", \"Falkland Islands\", \"Greenland\", \"Montserrat\", \"Seychelles\", \"Suriname\", \"Turks and Caicos\", \"MS Zaandam\", \"Gambia\", \"Nicaragua\", \"Vatican City\", \"Mauritania\", \"Papua New Guinea\", \"St. Barth\", \"Western Sahara\", \"Burundi\", \"Bhutan\", \"Sao Tome and Principe\", \"South Sudan\", \"Anguilla\", \"British Virgin Islands\", \"Caribbean Netherlands\", \"Saint Pierre Miquelon\", \"Yemen\", \"China\"], \"type\": \"choropleth\", \"z\": [817.0, 318.0, 0.0, 0.0, 52.0, 861.0, 92.0, 0.0, 417.0, 181.0, 7.0, 38.0, 34.0, 42.0, 30.0, 0.0, 1.0, 10.0, 0.0, 130.0, 0.0, 4.0, 11.0, 0.0, 28.0, 0.0, 20.0, 17.0, 12.0, 2.0, 0.0, 4.0, 3.0, 43.0, 13.0, 27.0, 0.0, 4.0, 1.0, 0.0, 4.0, 8.0, 0.0, 7.0, 0.0, 0.0, 3.0, 0.0, 3.0, 3.0, 0.0, 0.0, 12.0, 1.0, 3.0, 7.0, 2.0, 0.0, 0.0, 8.0, 10.0, 0.0, 1.0, 1.0, 0.0, 1.0, 0.0, 2.0, 0.0, 2.0, 1.0, 1.0, 1.0, 0.0, 0.0, 2.0, 3.0, 0.0, 5.0, 2.0, 0.0, 0.0, 0.0, 0.0, 0.0, 0.0, 0.0, 0.0, 0.0, 0.0, 0.0, 0.0, 1.0, 0.0, 0.0, 0.0, 1.0, 0.0, 2.0, 4.0, 0.0, 0.0, 0.0, 0.0, 0.0, 0.0, 0.0, 0.0, 0.0, 0.0, 0.0, 0.0, 1.0, 0.0, 1.0, 0.0, 0.0, 0.0, 0.0, 0.0, 0.0, 0.0, 0.0, 0.0, 0.0, 0.0, 0.0, 0.0, 0.0, 0.0, 0.0, 0.0, 0.0, 0.0, 0.0, 0.0, 0.0, 0.0, 0.0, 2.0, 0.0, 0.0, 0.0, 0.0, 0.0, 0.0, 0.0, 0.0, 0.0, 0.0, 0.0, 0.0, 0.0, 0.0, 0.0, 0.0, 0.0, 0.0, 0.0, 0.0, 0.0, 0.0, 0.0, 0.0, 0.0, 0.0, 1.0, 0.0, 0.0, 0.0, 0.0, 0.0, 0.0, 0.0, 0.0, 0.0, 1.0, 0.0, 0.0, 0.0, 0.0, 0.0, 0.0, 0.0, 0.0, 0.0, 0.0, 0.0, 0.0, 0.0, 0.0, 0.0, 0.0, 0.0, 0.0, 0.0, 0.0, 0.0, 0.0, 0.0, 0.0, 0.0, 0.0, 0.0, 0.0, 0.0, 0.0, 0.0, 0.0, 0.0, 0.0, 0.0]}],\n",
       "                        {\"geo\": {\"projection\": {\"type\": \"natural earth\"}, \"showframe\": false, \"showlakes\": true, \"showrivers\": true}, \"template\": {\"data\": {\"bar\": [{\"error_x\": {\"color\": \"#2a3f5f\"}, \"error_y\": {\"color\": \"#2a3f5f\"}, \"marker\": {\"line\": {\"color\": \"#E5ECF6\", \"width\": 0.5}}, \"type\": \"bar\"}], \"barpolar\": [{\"marker\": {\"line\": {\"color\": \"#E5ECF6\", \"width\": 0.5}}, \"type\": \"barpolar\"}], \"carpet\": [{\"aaxis\": {\"endlinecolor\": \"#2a3f5f\", \"gridcolor\": \"white\", \"linecolor\": \"white\", \"minorgridcolor\": \"white\", \"startlinecolor\": \"#2a3f5f\"}, \"baxis\": {\"endlinecolor\": \"#2a3f5f\", \"gridcolor\": \"white\", \"linecolor\": \"white\", \"minorgridcolor\": \"white\", \"startlinecolor\": \"#2a3f5f\"}, \"type\": \"carpet\"}], \"choropleth\": [{\"colorbar\": {\"outlinewidth\": 0, \"ticks\": \"\"}, \"type\": \"choropleth\"}], \"contour\": [{\"colorbar\": {\"outlinewidth\": 0, \"ticks\": \"\"}, \"colorscale\": [[0.0, \"#0d0887\"], [0.1111111111111111, \"#46039f\"], [0.2222222222222222, \"#7201a8\"], [0.3333333333333333, \"#9c179e\"], [0.4444444444444444, \"#bd3786\"], [0.5555555555555556, \"#d8576b\"], [0.6666666666666666, \"#ed7953\"], [0.7777777777777778, \"#fb9f3a\"], [0.8888888888888888, \"#fdca26\"], [1.0, \"#f0f921\"]], \"type\": \"contour\"}], \"contourcarpet\": [{\"colorbar\": {\"outlinewidth\": 0, \"ticks\": \"\"}, \"type\": \"contourcarpet\"}], \"heatmap\": [{\"colorbar\": {\"outlinewidth\": 0, \"ticks\": \"\"}, \"colorscale\": [[0.0, \"#0d0887\"], [0.1111111111111111, \"#46039f\"], [0.2222222222222222, \"#7201a8\"], [0.3333333333333333, \"#9c179e\"], [0.4444444444444444, \"#bd3786\"], [0.5555555555555556, \"#d8576b\"], [0.6666666666666666, \"#ed7953\"], [0.7777777777777778, \"#fb9f3a\"], [0.8888888888888888, \"#fdca26\"], [1.0, \"#f0f921\"]], \"type\": \"heatmap\"}], \"heatmapgl\": [{\"colorbar\": {\"outlinewidth\": 0, \"ticks\": \"\"}, \"colorscale\": [[0.0, \"#0d0887\"], [0.1111111111111111, \"#46039f\"], [0.2222222222222222, \"#7201a8\"], [0.3333333333333333, \"#9c179e\"], [0.4444444444444444, \"#bd3786\"], [0.5555555555555556, \"#d8576b\"], [0.6666666666666666, \"#ed7953\"], [0.7777777777777778, \"#fb9f3a\"], [0.8888888888888888, \"#fdca26\"], [1.0, \"#f0f921\"]], \"type\": \"heatmapgl\"}], \"histogram\": [{\"marker\": {\"colorbar\": {\"outlinewidth\": 0, \"ticks\": \"\"}}, \"type\": \"histogram\"}], \"histogram2d\": [{\"colorbar\": {\"outlinewidth\": 0, \"ticks\": \"\"}, \"colorscale\": [[0.0, \"#0d0887\"], [0.1111111111111111, \"#46039f\"], [0.2222222222222222, \"#7201a8\"], [0.3333333333333333, \"#9c179e\"], [0.4444444444444444, \"#bd3786\"], [0.5555555555555556, \"#d8576b\"], [0.6666666666666666, \"#ed7953\"], [0.7777777777777778, \"#fb9f3a\"], [0.8888888888888888, \"#fdca26\"], [1.0, \"#f0f921\"]], \"type\": \"histogram2d\"}], \"histogram2dcontour\": [{\"colorbar\": {\"outlinewidth\": 0, \"ticks\": \"\"}, \"colorscale\": [[0.0, \"#0d0887\"], [0.1111111111111111, \"#46039f\"], [0.2222222222222222, \"#7201a8\"], [0.3333333333333333, \"#9c179e\"], [0.4444444444444444, \"#bd3786\"], [0.5555555555555556, \"#d8576b\"], [0.6666666666666666, \"#ed7953\"], [0.7777777777777778, \"#fb9f3a\"], [0.8888888888888888, \"#fdca26\"], [1.0, \"#f0f921\"]], \"type\": \"histogram2dcontour\"}], \"mesh3d\": [{\"colorbar\": {\"outlinewidth\": 0, \"ticks\": \"\"}, \"type\": \"mesh3d\"}], \"parcoords\": [{\"line\": {\"colorbar\": {\"outlinewidth\": 0, \"ticks\": \"\"}}, \"type\": \"parcoords\"}], \"pie\": [{\"automargin\": true, \"type\": \"pie\"}], \"scatter\": [{\"marker\": {\"colorbar\": {\"outlinewidth\": 0, \"ticks\": \"\"}}, \"type\": \"scatter\"}], \"scatter3d\": [{\"line\": {\"colorbar\": {\"outlinewidth\": 0, \"ticks\": \"\"}}, \"marker\": {\"colorbar\": {\"outlinewidth\": 0, \"ticks\": \"\"}}, \"type\": \"scatter3d\"}], \"scattercarpet\": [{\"marker\": {\"colorbar\": {\"outlinewidth\": 0, \"ticks\": \"\"}}, \"type\": \"scattercarpet\"}], \"scattergeo\": [{\"marker\": {\"colorbar\": {\"outlinewidth\": 0, \"ticks\": \"\"}}, \"type\": \"scattergeo\"}], \"scattergl\": [{\"marker\": {\"colorbar\": {\"outlinewidth\": 0, \"ticks\": \"\"}}, \"type\": \"scattergl\"}], \"scattermapbox\": [{\"marker\": {\"colorbar\": {\"outlinewidth\": 0, \"ticks\": \"\"}}, \"type\": \"scattermapbox\"}], \"scatterpolar\": [{\"marker\": {\"colorbar\": {\"outlinewidth\": 0, \"ticks\": \"\"}}, \"type\": \"scatterpolar\"}], \"scatterpolargl\": [{\"marker\": {\"colorbar\": {\"outlinewidth\": 0, \"ticks\": \"\"}}, \"type\": \"scatterpolargl\"}], \"scatterternary\": [{\"marker\": {\"colorbar\": {\"outlinewidth\": 0, \"ticks\": \"\"}}, \"type\": \"scatterternary\"}], \"surface\": [{\"colorbar\": {\"outlinewidth\": 0, \"ticks\": \"\"}, \"colorscale\": [[0.0, \"#0d0887\"], [0.1111111111111111, \"#46039f\"], [0.2222222222222222, \"#7201a8\"], [0.3333333333333333, \"#9c179e\"], [0.4444444444444444, \"#bd3786\"], [0.5555555555555556, \"#d8576b\"], [0.6666666666666666, \"#ed7953\"], [0.7777777777777778, \"#fb9f3a\"], [0.8888888888888888, \"#fdca26\"], [1.0, \"#f0f921\"]], \"type\": \"surface\"}], \"table\": [{\"cells\": {\"fill\": {\"color\": \"#EBF0F8\"}, \"line\": {\"color\": \"white\"}}, \"header\": {\"fill\": {\"color\": \"#C8D4E3\"}, \"line\": {\"color\": \"white\"}}, \"type\": \"table\"}]}, \"layout\": {\"annotationdefaults\": {\"arrowcolor\": \"#2a3f5f\", \"arrowhead\": 0, \"arrowwidth\": 1}, \"coloraxis\": {\"colorbar\": {\"outlinewidth\": 0, \"ticks\": \"\"}}, \"colorscale\": {\"diverging\": [[0, \"#8e0152\"], [0.1, \"#c51b7d\"], [0.2, \"#de77ae\"], [0.3, \"#f1b6da\"], [0.4, \"#fde0ef\"], [0.5, \"#f7f7f7\"], [0.6, \"#e6f5d0\"], [0.7, \"#b8e186\"], [0.8, \"#7fbc41\"], [0.9, \"#4d9221\"], [1, \"#276419\"]], \"sequential\": [[0.0, \"#0d0887\"], [0.1111111111111111, \"#46039f\"], [0.2222222222222222, \"#7201a8\"], [0.3333333333333333, \"#9c179e\"], [0.4444444444444444, \"#bd3786\"], [0.5555555555555556, \"#d8576b\"], [0.6666666666666666, \"#ed7953\"], [0.7777777777777778, \"#fb9f3a\"], [0.8888888888888888, \"#fdca26\"], [1.0, \"#f0f921\"]], \"sequentialminus\": [[0.0, \"#0d0887\"], [0.1111111111111111, \"#46039f\"], [0.2222222222222222, \"#7201a8\"], [0.3333333333333333, \"#9c179e\"], [0.4444444444444444, \"#bd3786\"], [0.5555555555555556, \"#d8576b\"], [0.6666666666666666, \"#ed7953\"], [0.7777777777777778, \"#fb9f3a\"], [0.8888888888888888, \"#fdca26\"], [1.0, \"#f0f921\"]]}, \"colorway\": [\"#636efa\", \"#EF553B\", \"#00cc96\", \"#ab63fa\", \"#FFA15A\", \"#19d3f3\", \"#FF6692\", \"#B6E880\", \"#FF97FF\", \"#FECB52\"], \"font\": {\"color\": \"#2a3f5f\"}, \"geo\": {\"bgcolor\": \"white\", \"lakecolor\": \"white\", \"landcolor\": \"#E5ECF6\", \"showlakes\": true, \"showland\": true, \"subunitcolor\": \"white\"}, \"hoverlabel\": {\"align\": \"left\"}, \"hovermode\": \"closest\", \"mapbox\": {\"style\": \"light\"}, \"paper_bgcolor\": \"white\", \"plot_bgcolor\": \"#E5ECF6\", \"polar\": {\"angularaxis\": {\"gridcolor\": \"white\", \"linecolor\": \"white\", \"ticks\": \"\"}, \"bgcolor\": \"#E5ECF6\", \"radialaxis\": {\"gridcolor\": \"white\", \"linecolor\": \"white\", \"ticks\": \"\"}}, \"scene\": {\"xaxis\": {\"backgroundcolor\": \"#E5ECF6\", \"gridcolor\": \"white\", \"gridwidth\": 2, \"linecolor\": \"white\", \"showbackground\": true, \"ticks\": \"\", \"zerolinecolor\": \"white\"}, \"yaxis\": {\"backgroundcolor\": \"#E5ECF6\", \"gridcolor\": \"white\", \"gridwidth\": 2, \"linecolor\": \"white\", \"showbackground\": true, \"ticks\": \"\", \"zerolinecolor\": \"white\"}, \"zaxis\": {\"backgroundcolor\": \"#E5ECF6\", \"gridcolor\": \"white\", \"gridwidth\": 2, \"linecolor\": \"white\", \"showbackground\": true, \"ticks\": \"\", \"zerolinecolor\": \"white\"}}, \"shapedefaults\": {\"line\": {\"color\": \"#2a3f5f\"}}, \"ternary\": {\"aaxis\": {\"gridcolor\": \"white\", \"linecolor\": \"white\", \"ticks\": \"\"}, \"baxis\": {\"gridcolor\": \"white\", \"linecolor\": \"white\", \"ticks\": \"\"}, \"bgcolor\": \"#E5ECF6\", \"caxis\": {\"gridcolor\": \"white\", \"linecolor\": \"white\", \"ticks\": \"\"}}, \"title\": {\"x\": 0.05}, \"xaxis\": {\"automargin\": true, \"gridcolor\": \"white\", \"linecolor\": \"white\", \"ticks\": \"\", \"title\": {\"standoff\": 15}, \"zerolinecolor\": \"white\", \"zerolinewidth\": 2}, \"yaxis\": {\"automargin\": true, \"gridcolor\": \"white\", \"linecolor\": \"white\", \"ticks\": \"\", \"title\": {\"standoff\": 15}, \"zerolinecolor\": \"white\", \"zerolinewidth\": 2}}}, \"title\": {\"text\": \"NewDeaths throughout the world\"}},\n",
       "                        {\"responsive\": true}\n",
       "                    ).then(function(){\n",
       "                            \n",
       "var gd = document.getElementById('19012bfe-b696-42e6-bf15-7e754f2366a6');\n",
       "var x = new MutationObserver(function (mutations, observer) {{\n",
       "        var display = window.getComputedStyle(gd).display;\n",
       "        if (!display || display === 'none') {{\n",
       "            console.log([gd, 'removed!']);\n",
       "            Plotly.purge(gd);\n",
       "            observer.disconnect();\n",
       "        }}\n",
       "}});\n",
       "\n",
       "// Listen for the removal of the full notebook cells\n",
       "var notebookContainer = gd.closest('#notebook-container');\n",
       "if (notebookContainer) {{\n",
       "    x.observe(notebookContainer, {childList: true});\n",
       "}}\n",
       "\n",
       "// Listen for the clearing of the current output cell\n",
       "var outputEl = gd.closest('.output');\n",
       "if (outputEl) {{\n",
       "    x.observe(outputEl, {childList: true});\n",
       "}}\n",
       "\n",
       "                        })\n",
       "                };\n",
       "                });\n",
       "            </script>\n",
       "        </div>"
      ]
     },
     "metadata": {},
     "output_type": "display_data"
    }
   ],
   "source": [
    "#Plotting the map\n",
    "iplot(map)"
   ]
  },
  {
   "cell_type": "code",
   "execution_count": null,
   "metadata": {},
   "outputs": [],
   "source": []
  },
  {
   "cell_type": "code",
   "execution_count": null,
   "metadata": {},
   "outputs": [],
   "source": []
  }
 ],
 "metadata": {
  "kernelspec": {
   "display_name": "Python 3",
   "language": "python",
   "name": "python3"
  },
  "language_info": {
   "codemirror_mode": {
    "name": "ipython",
    "version": 3
   },
   "file_extension": ".py",
   "mimetype": "text/x-python",
   "name": "python",
   "nbconvert_exporter": "python",
   "pygments_lexer": "ipython3",
   "version": "3.7.6"
  }
 },
 "nbformat": 4,
 "nbformat_minor": 4
}
